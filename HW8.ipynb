{
 "cells": [
  {
   "cell_type": "markdown",
   "id": "72a37a3e",
   "metadata": {},
   "source": [
    "#  Homework"
   ]
  },
  {
   "cell_type": "markdown",
   "id": "5023e7b0",
   "metadata": {},
   "source": [
    "<br><br>\n",
    "1.  Calculate the DC term for a 48x48 image.  Create the image array using the random number seed of 20,000.  Show that the DC term equals the sum of the input signal."
   ]
  },
  {
   "cell_type": "code",
   "execution_count": 1,
   "id": "e4a28fea",
   "metadata": {},
   "outputs": [
    {
     "name": "stdout",
     "output_type": "stream",
     "text": [
      "\n",
      "Sum of input signal: 1165.26\n",
      "\n",
      "DC Term: (1165.26-0j)\n",
      "In this example, the DC term is definitely the same as the sum of the input signal\n"
     ]
    }
   ],
   "source": [
    "#  DC (the sum of the input signal, it is called the bias term) term example\n",
    "import numpy as np\n",
    "import scipy.fftpack as ft\n",
    "import matplotlib.pyplot as plt\n",
    "import imageio\n",
    "\n",
    "np.random.seed(20000)\n",
    "mga = np.random.ranf((48,48))\n",
    "mgb = ft.fft2(mga)\n",
    "print('\\nSum of input signal:', round(mga.sum(),2))\n",
    "print('\\nDC Term:', np.round(mgb[0,0],2))\n",
    "\n",
    "print(\"In this example, the DC term is definitely the same as the sum of the input signal\")\n",
    "\n",
    "def KaiserMask(shape, center, r1, r2):\n",
    "    # returns a mask that you can use over and over again.\n",
    "    di, dj = center  # location of the center of the window\n",
    "    v,h = shape\n",
    "    theta = 2. * np.pi\n",
    "    Iot = 1.0 + theta/4. + 2.*theta/64. + 3.*theta/2304.\n",
    "    \n",
    "    # compute radii\n",
    "    vindex = np.multiply.outer(np.arange(v), np.ones(h))\n",
    "    hindex = np.multiply.outer(np.ones(v), np.arange(h))\n",
    "    a = (di-vindex).astype(float)\n",
    "    b = dj-hindex\n",
    "    r = np.sqrt(a*a + b*b)\n",
    "    del a,b\n",
    "    \n",
    "    # inside r1, and outside r2 are easy\n",
    "    mask = np.zeros(shape, float)\n",
    "    mask = (r < r1).astype(int)\n",
    "    \n",
    "    # work on the ring between\n",
    "    b = np.logical_and((r<r2), (r>r1))\n",
    "    m = (r-r1)/(r2-r1)\n",
    "    m = m*b\n",
    "    a = theta * np.sqrt( 1.-m*m)\n",
    "    a = 1.0 + a/4.0 + 2.0*a/64.0 + 3.0*a/2304.0\n",
    "    a = a / Iot\n",
    "    a = a * (r< r2)\n",
    "    a = a * (r>=r1).astype(int)\n",
    "    mask = mask + a\n",
    "    return mask"
   ]
  },
  {
   "cell_type": "markdown",
   "id": "9d432b65",
   "metadata": {},
   "source": [
    "<br><br>\n",
    "\n",
    "2. Write python code to prove $\\mathfrak{F}^{-1} \\mathfrak{F} \\mathbf{a}[\\vec{x}] = 0$ for a 48x48 pixel image.  Use the random seed of 20,000 as in problem #1.  This shows that the energy is conserved and that there is no loss in the process."
   ]
  },
  {
   "cell_type": "code",
   "execution_count": 2,
   "id": "69f42354",
   "metadata": {},
   "outputs": [
    {
     "name": "stdout",
     "output_type": "stream",
     "text": [
      "\n",
      "Are the two arrays the same: True\n"
     ]
    },
    {
     "data": {
      "text/plain": [
       "array([[ 0.00000000e+00+9.63735264e-20j, -2.22044605e-16-2.08166817e-17j,\n",
       "         1.11022302e-16+2.78519491e-17j, ...,\n",
       "         1.11022302e-16-3.34489941e-18j, -1.11022302e-16+3.80111949e-17j,\n",
       "        -2.22044605e-16-8.57460258e-18j],\n",
       "       [-1.11022302e-16-2.68882139e-17j, -1.11022302e-16+2.26477787e-17j,\n",
       "        -5.55111512e-17-8.92871935e-17j, ...,\n",
       "         0.00000000e+00-2.40652076e-17j,  1.11022302e-16+4.38892807e-17j,\n",
       "        -1.66533454e-16+8.00642083e-17j],\n",
       "       [-1.66533454e-16-6.00407070e-17j, -2.22044605e-16-8.25921122e-17j,\n",
       "        -2.22044605e-16+1.48500340e-17j, ...,\n",
       "        -2.22044605e-16+2.08107560e-17j, -2.22044605e-16-2.67073183e-17j,\n",
       "        -5.55111512e-17-2.50946133e-17j],\n",
       "       ...,\n",
       "       [-5.55111512e-16-3.95546617e-17j, -1.11022302e-16-7.29824367e-17j,\n",
       "        -2.22044605e-16+3.09992706e-17j, ...,\n",
       "        -2.22044605e-16+4.44805694e-17j,  0.00000000e+00+4.80003374e-17j,\n",
       "         1.38777878e-16+3.03581576e-17j],\n",
       "       [ 1.11022302e-16-1.98146419e-17j,  2.77555756e-16+3.78977715e-17j,\n",
       "         0.00000000e+00-1.11410245e-17j, ...,\n",
       "         3.33066907e-16+8.25023917e-17j,  1.11022302e-16-1.02753733e-16j,\n",
       "         1.11022302e-16+6.34951801e-17j],\n",
       "       [ 1.11022302e-16-6.09615665e-18j,  1.11022302e-16-3.32242421e-17j,\n",
       "         8.32667268e-17-3.81723568e-18j, ...,\n",
       "         0.00000000e+00+9.52110705e-18j, -1.11022302e-16-3.08804755e-17j,\n",
       "        -2.77555756e-17+2.57103487e-17j]])"
      ]
     },
     "execution_count": 2,
     "metadata": {},
     "output_type": "execute_result"
    }
   ],
   "source": [
    "mga = np.random.ranf((48,48))\n",
    "mgb = ft.fft2(mga)\n",
    "mgc = ft.ifft2(mgb)\n",
    "print('\\nAre the two arrays the same:', np.allclose(mga, mgc))\n",
    "mga-mgc"
   ]
  },
  {
   "cell_type": "markdown",
   "id": "c6847237",
   "metadata": {},
   "source": [
    "<br><br>\n",
    "\n",
    "3. Create a Kaiser Mask with a frame size of (256, 256) and a mask centered on (128, 128) with pixel values of one inside the radius of 40 decaying to zero at 60.  Repeat the problem with the pixel values of one inside the radius of 10 decaying to zero at 60.  Describe you observations comparing the two images."
   ]
  },
  {
   "cell_type": "code",
   "execution_count": 3,
   "id": "cbee69ef",
   "metadata": {},
   "outputs": [
    {
     "data": {
      "image/png": "[encoded data removed]",
      "text/plain": [
       "<Figure size 432x288 with 1 Axes>"
      ]
     },
     "metadata": {
      "needs_background": "light"
     },
     "output_type": "display_data"
    }
   ],
   "source": [
    "mask = KaiserMask((256,512), (128,128), 40, 60)\n",
    "\n",
    "plt.title('Kaiser Mask')\n",
    "plt.imshow(mask, cmap='gray')\n",
    "plt.show()"
   ]
  },
  {
   "cell_type": "code",
   "execution_count": 4,
   "id": "7e58d2da",
   "metadata": {},
   "outputs": [
    {
     "data": {
      "image/png": "[encoded data removed]",
      "text/plain": [
       "<Figure size 432x288 with 1 Axes>"
      ]
     },
     "metadata": {
      "needs_background": "light"
     },
     "output_type": "display_data"
    }
   ],
   "source": [
    "mask = KaiserMask((256,256), (128,128), 10, 60)\n",
    "\n",
    "plt.title('Kaiser Mask')\n",
    "plt.imshow(mask, cmap='gray')\n",
    "plt.show()"
   ]
  },
  {
   "cell_type": "markdown",
   "id": "29720308",
   "metadata": {},
   "source": [
    "<span style=\"color:blue\">It looks like the KaiserMask is a pretty simple function. It creates a circle which gradually has edges that decay into the black background. In this case, when we used 40 as the radius that it starts to decay, the circle is whiter than the other and more quickly drops from pure white to black, while the other slowly erodes into black (relatively). This is because the second photo decays over a 50 pixel radius and the other decays in a 10 pixel radius.</span>"
   ]
  }
 ],
 "metadata": {
  "kernelspec": {
   "display_name": "Python 3",
   "language": "python",
   "name": "python3"
  },
  "language_info": {
   "codemirror_mode": {
    "name": "ipython",
    "version": 3
   },
   "file_extension": ".py",
   "mimetype": "text/x-python",
   "name": "python",
   "nbconvert_exporter": "python",
   "pygments_lexer": "ipython3",
   "version": "3.8.8"
  }
 },
 "nbformat": 4,
 "nbformat_minor": 5
}
