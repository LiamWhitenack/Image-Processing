{
 "cells": [
  {
   "cell_type": "markdown",
   "id": "f17fd176",
   "metadata": {},
   "source": [
    "# Homework"
   ]
  },
  {
   "cell_type": "markdown",
   "id": "aa7beede",
   "metadata": {},
   "source": [
    "## Creation Operator List\n",
    "\n",
    "<div class=\"alert alert-block alert-info\">\n",
    "${\\bf z}_{\\vec w}$ Zeros - returns an image of size $\\vec w$ with all pixels set to 0<br><br>\n",
    "${\\bf r}_{\\vec w; \\vec v_1, \\vec v_2} [\\vec x]$ Rectangle- returns an image with a solid rectangle located at $\\vec v_1$ and size $\\vec v_2$<br><br>\n",
    "${\\bf o}_{\\vec w; \\vec v, r}[\\vec x]$ Circle - returns an image with a solid circle of radius $r$ located at position $\\vec v$<br><br>\n",
    "${\\bf q}_{\\vec w} [\\vec x]$ Random - returns an image with random numbers between 0 and 1<br><br>\n",
    "$\\mathfrak{G}_{\\vec w,\\vec f, \\vec t, sw} [\\vec x]$ Gabor - returns a set of images that are Gabor filters<br><br>\n",
    "$Y({\\tt fileName} )$ Load - loads a file<br><br>\n",
    "$\\mathcal{Z}_{\\vec w;r,m,n} [\\vec x]$ Zernike - returns a set of images that are Zernike functions<br><br>\n",
    "$k_{\\vec w; r_1, r_2} [\\vec x]$ Kaiser - returns an image which contains a Kaiser mask with an inner radius of $r_1$ and an outer radius of $r_2$<br><br>\n",
    "</div>"
   ]
  },
  {
   "cell_type": "markdown",
   "id": "2bfe8780",
   "metadata": {},
   "source": [
    "## Channel Operator List \n",
    "\n",
    "<div class=\"alert alert-block alert-warning\">\n",
    "$\\begin{Bmatrix} \\cdot \\\\ \\cdot \\\\ \\cdot \\end{Bmatrix}$ Channel isolation - accesses individual channels in an image<br><br>\n",
    "$\\mathcal{L}_m$ Color model conversion - converts an image into the specified color model $m$<br><br>\n",
    "$\\varnothing$ Block - prevents information from one channel from participating in the computation<br><br>\n",
    "$\\Join$ Pass - allows a channel to pass through without alteration<br><br>\n",
    "$\\sum_{\\mathcal{L}}$ Summation - creates a new image from the addition of the different color channels<br><br>\n",
    "$\\prod_{\\mathcal{L}}$ Product - creates a new image from the multiplication of the different color channels<br><br>\n",
    "</div>"
   ]
  },
  {
   "cell_type": "markdown",
   "id": "ddc42435",
   "metadata": {},
   "source": [
    "1. Given $\\vec w = (200,200)$, $\\vec v_1 = (10,100)$ and $\\vec v_2 = (50, 150)$, how many pixels are set to 1 in ${\\bf a}[\\vec x] = {\\bf r}_{\\vec w, \\vec v_1, \\vec v_2}$"
   ]
  },
  {
   "cell_type": "markdown",
   "id": "2ca19346",
   "metadata": {},
   "source": [
    "*Answer:*\n",
    "\n",
    "The number of pixels in the rectangle can be figured out by multiplying $\\vec w _1$  by $\\vec w _2$, which would give us 40,000. \n",
    "<br><br>"
   ]
  },
  {
   "cell_type": "markdown",
   "id": "2314d5e5",
   "metadata": {},
   "source": [
    "2. What is the value of $t$ in, $t = \\sum_{\\vec x} {\\bf o}_{\\vec w, \\vec v, r}$ where $\\vec w=(200,200)$, $\\vec v =(100,100)$ and $r=50$?"
   ]
  },
  {
   "cell_type": "markdown",
   "id": "75cc5fa2",
   "metadata": {},
   "source": [
    "*Answer:*\n",
    "\n",
    "this circle would have $\\pi r ^2$ pixels, which in this case would be 7857.\n"
   ]
  },
  {
   "cell_type": "markdown",
   "id": "7a2656e4",
   "metadata": {},
   "source": [
    "3.  Write the operator notation for the absolute value of the difference between the values in the red and green channels of an RGB image ${\\bf a}[\\vec x]$.\n"
   ]
  },
  {
   "cell_type": "markdown",
   "id": "48d53046",
   "metadata": {},
   "source": [
    "*Answer:*\n",
    "\n",
    "$|\\begin{Bmatrix} 1 \\\\ \\varnothing \\\\ \\varnothing \\end{Bmatrix}{\\bf a}[\\vec x] - \\begin{Bmatrix} 1 \\\\ \\varnothing \\\\ \\varnothing \\end{Bmatrix}{\\bf a}[\\vec x]|$\n",
    "\n",
    "<br><br>"
   ]
  }
 ],
 "metadata": {
  "kernelspec": {
   "display_name": "Python 3",
   "language": "python",
   "name": "python3"
  },
  "language_info": {
   "codemirror_mode": {
    "name": "ipython",
    "version": 3
   },
   "file_extension": ".py",
   "mimetype": "text/x-python",
   "name": "python",
   "nbconvert_exporter": "python",
   "pygments_lexer": "ipython3",
   "version": "3.8.8"
  }
 },
 "nbformat": 4,
 "nbformat_minor": 5
}
