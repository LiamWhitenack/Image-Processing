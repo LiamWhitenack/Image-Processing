{
 "cells": [
  {
   "cell_type": "markdown",
   "metadata": {
    "slideshow": {
     "slide_type": "slide"
    }
   },
   "source": [
    "#  Image Operators and Image Processing\n",
    "\n",
    "<br><br>\n",
    "\n",
    "## Course Approach\n",
    "\n",
    "<br><b>\n",
    "\n",
    "All class materials are in jupyter notebooks<br><br>\n",
    "    \n",
    "All homework expected to be performed in a jupyter notebook<br><br>\n",
    "\n",
    "Focus in understanding that there is a notation that bridges the gap between theory and application<br><br>\n",
    "\n",
    "Lots of hand-on application<br><br>\n",
    "\n",
    "</b>\n",
    "\n",
    "<br><br><br><br><br><br><br><br><br><br><br><br><br><br>\n",
    "\n",
    "\n",
    "## Lecture Outline\n",
    "\n",
    "<b>Introduction\n",
    "\n",
    "Syllabus & Expectations Review\n",
    "\n",
    "* Course Overview<br><br>\n",
    "\n",
    "* Course Focus – what the course is/is not<br><br>\n",
    "\n",
    "* How are we going to accomplish our goals<br><br>\n",
    "\n",
    "* Approach to the rest of the course</b>\n",
    "\n",
    "<br><br><br><br><br><br><br><br><br><br><br><br><br><br>\n",
    "\n",
    "##  Who am I?\n",
    "\n",
    "<b>BS Physics, BS Astronomy, MS Math, PhD Earth Science and Geoinformation\n",
    "* over 43 years experience in RF Analysis, decision optimization, complex dynamic modeling, linguistic analysis and simulation\n",
    "\n",
    "Current Employment - Building FirstNet for First Responders: firstnet.com & firstner.gov\n",
    "* https://www.firstnet.com/coverage.html\n",
    "\n",
    "Current Research - Deep Leaning and Image Processing of Medieval Manuscripts</b>\n",
    "\n",
    "http://localhost:8888/notebooks/Desktop/My_Docs/GMU/Class_Taught_Save/CDS468_Image_Operators/Spring_2021/Lectures/Lecture_1/Image_Analysis_CDS468.pptx\n",
    "\n",
    "<br><br><br><br><br><br><br><br><br><br><br><br>\n"
   ]
  },
  {
   "cell_type": "markdown",
   "metadata": {
    "slideshow": {
     "slide_type": "slide"
    }
   },
   "source": [
    "<b>Previous courses taught\n",
    "* GGS 102 Physical Geography<br><br>\n",
    "* GGS 301 Political Geography<br><br>\n",
    "* GGS 550 Geospatial Science Fundementals<br><br>\n",
    "* GGS 590 Deep Learning for Geoinformation<br><br>\n",
    "* GGS 675 Location Science (Spatial Optimization)<br><br>\n",
    "* GGS 680 Earth Image Processing<br><br>\n",
    "* CDS 468 Image Operators<br><br>\n",
    "\n",
    "<br><br><br><br><br><br><br><br><br><br><br><br>\n",
    "\n",
    "Conference Presentations\n",
    "* Yang, Z; Wolf, M; Rozen, N. (1995). A Fast Simulation Approach for Availability Study of FAA Networks in Support of GPS Guided Navigation. 1995 Computer Simulation Conference, Ottawa.<br><br>\n",
    "* Developing new computational approaches to place-name studies: Digitally parsing Hogan’s Onomasticon Goedelicum, Digital Britain: New Approaches to the Early Middle Ages, Harvard University, Cambridge, MA, March 25 – 26, 2016.<br><br>\n",
    "* Opioid Crisis: Let’s Tweet About It, The Opportunity Project U.S. Census, March 1, 2019.</b>\n",
    "\n",
    "<br><br><br><br><br><br><br><br><br><br><br><br>\n"
   ]
  },
  {
   "cell_type": "markdown",
   "metadata": {
    "slideshow": {
     "slide_type": "slide"
    }
   },
   "source": [
    "## Who are you?\n",
    "\n",
    "<b>Name (name wish to be called)<br>\n",
    "\n",
    "Why are you enrolled in this course?<br><br>\n",
    "\n",
    "One thing or two things you want to get out of this course?<br>\n",
    "\n",
    "Mathematics Knowledge?<br>\n",
    "\n",
    "Programming Knowledge?</b>\n",
    "\n",
    "<br><br><br><br><br><br><br><br><br><br><br><br><br><br>\n",
    "\n",
    "\n",
    "## What are your expectations of this class?\n",
    "\n",
    "<br><br><br><br><br><br><br><br><br><br><br><br><br><br>\n"
   ]
  },
  {
   "cell_type": "markdown",
   "metadata": {},
   "source": [
    "## Course Description\n",
    "\n",
    "<b>This is an introductory examination of image mathematics, computational protocols, and applications</b>\n",
    "    \n",
    "<b>Topics include image operator notation, channel operators, informational operators, intensity operators, geometric operators, image transformations, frequency filtering, and image basis set expansions</b>\n",
    "\n",
    "<b>The course will build the students’ computational skill set as applied to visual data and create a library of image analysis scripts</b>\n",
    "\n",
    "<b>Having prior experience working with Python is required and a very good linear algebra background is essential to maximize your learning</b>  \n",
    "\n",
    "<br><br><br><br>\n"
   ]
  },
  {
   "cell_type": "markdown",
   "metadata": {
    "slideshow": {
     "slide_type": "slide"
    }
   },
   "source": [
    "## Course Objective\n",
    "\n",
    "<b>This is a senior-level course and so it is expected that one has advanced mathematical abilities along with programming skills\n",
    "    \n",
    "By participating in class lectures, performing background topic research and independent study, students will be able to:\n",
    "    \n",
    "* Understand the fundamentals of image analysis techniques<br><br>\n",
    "* Develop the ability to effectively describe methods developed from the techniques<br><br>\n",
    "* Apply the learning to create Python scripts that replicate these methods<br><br>\n",
    "* Most importantly, learn how to learn from each other in a collaborative environment<br><br>\n",
    "</b>\n",
    "\n",
    "<br><br><br><br><br><br><br><br><br><br><br><br><br><br>\n"
   ]
  },
  {
   "cell_type": "markdown",
   "metadata": {
    "slideshow": {
     "slide_type": "slide"
    }
   },
   "source": [
    "## Course Materials\n",
    "<br>\n",
    "<b> \n",
    "\n",
    "* Image Operators: Image Processing in Python 1st Edition. by Jason M. Kinser (Author) ISBN-13: 978-1498796187<br><br>\n",
    "\n",
    "* Various peer reviewed journal articles<br><br>\n",
    "\n",
    "* Various Python Tutorials<br><br>\n",
    "\n",
    "* Great source for Image Analysis and Deep Learning Tutorials:  https://www.pyimagesearch.com/\n",
    "</b>\n",
    "\n",
    "<br><br><br><br><br><br><br><br><br><br><br><br><br><br>\n"
   ]
  },
  {
   "cell_type": "markdown",
   "metadata": {
    "slideshow": {
     "slide_type": "slide"
    }
   },
   "source": [
    "## Syllabus Review \n",
    "\n",
    "| **Date** | **Topic** | **Lecture Scope** |\n",
    "| :---: | :---: | :---: |\n",
    "|**1/27/2021 Lecture 1** | Introduction & Lexicon | Introduction, Classroom Conduct, Syllabus Review and What are Image Operators? |\n",
    "| **2/3/2021 Lecture 2** | Python & Linear Algebra | In-class examples |\n",
    "| **2/10/2021 Lecture 3** | Digital Images & Color | In-class examples |\n",
    "| **2/17/2021 Lecture 4** | Geometric Transformations | In-class examples |\n",
    "| **2/24/2021 Lecture 5** | Image Morphing | In-class examples |\n",
    "| **3/3/2021 Lecture 6** | PCA | In-class examples |\n",
    "| **3/10/2021 Lecture 7** | Eigen Images | In-class examples |\n",
    "| **3/24/2021 Lecture 8** | Image Frequencies | In-class examples |\n",
    "| **3/31/2021 Lecture 9** | Frequency Filtering | In-class examples |\n",
    "| **4/7/2021 Lecture 10** | Correlations | In-class examples |\n",
    "| **4/14/2021 Lecture 11** | Edge Detection & Hough Transforms | In-class examples |\n",
    "| **4/21/2021 Lecture 12** | Noise | In-class examples |\n",
    "| **4/28/2021 Lecture 13** | Deep Learning & Review | In-class examples |\n",
    "| **5/5/2021 Lecture 14** | Final Exam | Final Exam |\n",
    "\n",
    "<br><br><br><br><br><br><br><br><br><br><br><br><br><br>\n"
   ]
  },
  {
   "cell_type": "markdown",
   "metadata": {
    "slideshow": {
     "slide_type": "slide"
    }
   },
   "source": [
    "## Grading\n",
    "\n",
    "### Homework Assignments - 50%\n",
    "\n",
    "<b>Exercises assigned based on active material being covered. All homework is due at the beginning of class in a jupyter notebook. Homework that is turned in late is subject receiving a maximum grade no higher than the lowest mark received by assignments turned in on time.</b>\n",
    "\n",
    "<br><br><br><br><br><br><br><br><br><br><br><br><br><br>\n",
    "\n",
    "\n",
    "### Final Exam - 25%\n",
    "\n",
    "<b>The final exam will count for 25% of the student’s grade</b>\n",
    "\n",
    "<br><br><br><br><br><br><br><br><br><br><br><br><br><br>\n",
    "\n",
    "\n",
    "### Participation - 25%\n",
    "<br><b>\n",
    "    \n",
    "1. Students prepare for and actively engage in class discussion (e.g., demonstrate active listening, not distracted by electronics or peers)<br><br>\n",
    "\n",
    "2. Students thoughtfully engage in in-class assignments and activities<br><br>\n",
    "\n",
    "3. Students participate in class discussion by raising informed discussion points<br><br>\n",
    "\n",
    "4. Connecting discussion to reading material, news, and relevant experiences<br><br>\n",
    "\n",
    "5. Asking questions; listening to other perspectives; sharing the floor with others</b><br>\n",
    "\n",
    "<br><br><br><br><br><br><br><br><br><br><br><br><br><br>\n"
   ]
  },
  {
   "cell_type": "markdown",
   "metadata": {},
   "source": [
    "# Compute Environment\n",
    "\n",
    "<br><br>\n",
    "\n",
    "<div class=\"alert alert-block alert-success\">\n",
    "Manage Python environments on Anaconda - ImageOperator\n",
    "</div>\n",
    "\n",
    "conda create --name ImageOperator python=3.8.8 anaconda\n",
    "\n",
    "conda activate ImageOperator\n",
    "\n",
    "pip install opencv-python\n",
    "\n",
    "pip install opencv-contrib-python\n",
    "\n",
    "pip install lsq-ellipse\n",
    "\n",
    "pip install nestle\n",
    "\n",
    "<br><br><br><br>"
   ]
  },
  {
   "cell_type": "markdown",
   "metadata": {
    "slideshow": {
     "slide_type": "slide"
    }
   },
   "source": [
    "<b>In today's world, Image Segmentation & Recognition has become a workhorse of image recognition</b><br><br>\n",
    "\n",
    "<div> <img src=\"https://github.com/joefoxva1/GGS_590_DL/blob/master/Lecture1/ISR1.png?raw=true\" width=\"500\"/img></div>\n",
    "\n",
    "<br><br><br><br><br><br><br><br><br><br><br><br>\n"
   ]
  },
  {
   "cell_type": "markdown",
   "metadata": {
    "slideshow": {
     "slide_type": "slide"
    }
   },
   "source": [
    "<b>Image Recognition or Computer Vision has become a staple in our everyday lives</b><br><br>\n",
    "\n",
    "<div> <img src=\"https://github.com/joefoxva1/GGS_590_DL/blob/master/Lecture1/CV1.png?raw=true\" width=\"500\"/img></div>\n",
    "\n",
    "<br><br><br><br><br><br><br><br><br><br><br><br><br><br><br><br>\n"
   ]
  },
  {
   "cell_type": "markdown",
   "metadata": {
    "slideshow": {
     "slide_type": "slide"
    }
   },
   "source": [
    "#  Questions & Discussion\n",
    "\n",
    "<br><b>\n",
    "\n",
    "1. What are some example uses of image processing have you experienced?<br><br>\n",
    "\n",
    "2. What are your thoughts on the ethical use of image processing techniques?  Provide some examples of non-ethical uses.\n",
    "\n",
    "</b>"
   ]
  },
  {
   "cell_type": "code",
   "execution_count": null,
   "metadata": {},
   "outputs": [],
   "source": []
  }
 ],
 "metadata": {
  "kernelspec": {
   "display_name": "Python 3",
   "language": "python",
   "name": "python3"
  },
  "language_info": {
   "codemirror_mode": {
    "name": "ipython",
    "version": 3
   },
   "file_extension": ".py",
   "mimetype": "text/x-python",
   "name": "python",
   "nbconvert_exporter": "python",
   "pygments_lexer": "ipython3",
   "version": "3.8.8"
  }
 },
 "nbformat": 4,
 "nbformat_minor": 2
}
